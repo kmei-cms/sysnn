{
 "cells": [
  {
   "cell_type": "markdown",
   "metadata": {},
   "source": [
    "# Investigating effects of systematic uncertainties in NNs\n",
    "\n",
    "Here we demonstrate the effect of systematic uncertainties on neural network training. For simplicity we will use the trivial MLP with `keras` and `tensorflow` described [here](https://www.tensorflow.org/guide/keras/overview). \n",
    "\n",
    "We will create a simple 1x32x1 MLP to distinguish two categories A and B, which have distributions in a single variable `x`. \n",
    "\n",
    "The model is that the `std` (standard) spectra of A and B are Gaussians with unit width that have means of 10 and 20, respectively. The `sys` (systematically smeared) spectra of A and B have an additional Gaussian smearing of 5, on top of the `std` unit Gaussian. \n",
    "\n",
    "We will investigate two NN models that are respectively trained on:\n",
    "\n",
    "1. The `std` distribution before smearing. \n",
    "1. The `sys` distribution after smearing. \n",
    "\n",
    "The observed spectrum is designed to match the smeared `sys` distribution. \n"
   ]
  },
  {
   "cell_type": "code",
   "execution_count": 1,
   "metadata": {},
   "outputs": [],
   "source": [
    "import tensorflow as tf\n",
    "import numpy as np\n",
    "from tensorflow import keras\n",
    "from tensorflow.keras import layers"
   ]
  },
  {
   "cell_type": "code",
   "execution_count": 2,
   "metadata": {},
   "outputs": [],
   "source": [
    "import matplotlib.pyplot as plt\n",
    "import numpy as np"
   ]
  },
  {
   "cell_type": "code",
   "execution_count": 3,
   "metadata": {},
   "outputs": [],
   "source": [
    "x0 = 10.0\n",
    "x1 = 20.0\n",
    "dx = 5."
   ]
  },
  {
   "cell_type": "markdown",
   "metadata": {},
   "source": [
    "### Make two trivial MLPs\n",
    "\n",
    "Make two identical MLPs with one input layer, one hidden layer, one output layer. The first is the `std` one with unit-Gaussian smearing, the second is the `sys` one with the additional smearing.  "
   ]
  },
  {
   "cell_type": "code",
   "execution_count": 4,
   "metadata": {},
   "outputs": [],
   "source": [
    "model_std = tf.keras.Sequential([\n",
    "layers.Input(shape=(1,)),\n",
    "layers.Dense(32, activation='relu'),\n",
    "layers.Dense(1)])\n",
    "\n",
    "model_std.compile(optimizer=tf.keras.optimizers.Adam(0.01),\n",
    "              loss='mse',\n",
    "              metrics=['mae'])"
   ]
  },
  {
   "cell_type": "code",
   "execution_count": 5,
   "metadata": {},
   "outputs": [],
   "source": [
    "model_sys = tf.keras.Sequential([\n",
    "layers.Input(shape=(1,)),\n",
    "layers.Dense(32, activation='relu'),\n",
    "layers.Dense(1)])\n",
    "\n",
    "model_sys.compile(optimizer=tf.keras.optimizers.Adam(0.01),\n",
    "              loss='mse',\n",
    "              metrics=['mae'])"
   ]
  },
  {
   "cell_type": "markdown",
   "metadata": {},
   "source": [
    "### Training data\n",
    "\n",
    "We create two training sets. The first is drawn from the `std` distribution of unit Gaussians at different means, and the second `sys` is identical (item-by-item) to the first, but has an additional Gaussian smearing for the \"simulated\" distribution. \n"
   ]
  },
  {
   "cell_type": "code",
   "execution_count": 6,
   "metadata": {},
   "outputs": [],
   "source": [
    "\n",
    "labels0 = np.zeros( 10000 )\n",
    "labels1 = np.ones ( 10000 )\n",
    "labels = np.concatenate([labels0, labels1])\n",
    "\n",
    "data0 = np.random.normal( loc=x0, size=10000)\n",
    "data1 = np.random.normal( loc=x1, size=10000)\n",
    "data_std = np.concatenate([data0,data1])\n",
    "data_sys = data_std + np.random.normal(loc=0, scale=dx, size=20000)"
   ]
  },
  {
   "cell_type": "code",
   "execution_count": 7,
   "metadata": {},
   "outputs": [
    {
     "data": {
      "image/png": "[encoded data removed]",
      "text/plain": [
       "<Figure size 432x288 with 1 Axes>"
      ]
     },
     "metadata": {
      "needs_background": "light"
     },
     "output_type": "display_data"
    }
   ],
   "source": [
    "plt.hist(data_std[labels == 0], bins=np.arange(30),histtype = 'step', label=\"A, std\", color='b', linestyle='dashed')\n",
    "plt.hist(data_std[labels == 1], bins=np.arange(30),histtype = 'step', label=\"B, std\", color='r', linestyle='dashed')\n",
    "plt.hist(data_sys[labels == 0], bins=np.arange(30),histtype = 'step', label=\"A, sys\", color='b')\n",
    "plt.hist(data_sys[labels == 1], bins=np.arange(30),histtype = 'step', label=\"B, sys\", color='r')\n",
    "plt.title(\"Training data\")\n",
    "plt.xlabel(\"x\")\n",
    "plt.ylabel(\"Number\")\n",
    "plt.legend()\n",
    "plt.show()"
   ]
  },
  {
   "cell_type": "markdown",
   "metadata": {},
   "source": [
    "### Fit the model\n",
    "\n",
    "Now we train the different models. The first is trained on the `std` distribution, and the second is trained on the `sys` smeared distribution. "
   ]
  },
  {
   "cell_type": "code",
   "execution_count": 8,
   "metadata": {},
   "outputs": [
    {
     "name": "stdout",
     "output_type": "stream",
     "text": [
      "Train on 20000 samples\n",
      "Epoch 1/10\n",
      "20000/20000 [==============================] - 1s 70us/sample - loss: 0.0168 - mae: 0.0945\n",
      "Epoch 2/10\n",
      "20000/20000 [==============================] - 1s 47us/sample - loss: 0.0094 - mae: 0.0731\n",
      "Epoch 3/10\n",
      "20000/20000 [==============================] - 1s 41us/sample - loss: 0.0087 - mae: 0.0681\n",
      "Epoch 4/10\n",
      "20000/20000 [==============================] - 1s 42us/sample - loss: 0.0082 - mae: 0.0649\n",
      "Epoch 5/10\n",
      "20000/20000 [==============================] - 1s 41us/sample - loss: 0.0073 - mae: 0.0621\n",
      "Epoch 6/10\n",
      "20000/20000 [==============================] - 1s 41us/sample - loss: 0.0062 - mae: 0.0591\n",
      "Epoch 7/10\n",
      "20000/20000 [==============================] - 1s 42us/sample - loss: 0.0052 - mae: 0.0549\n",
      "Epoch 8/10\n",
      "20000/20000 [==============================] - 1s 40us/sample - loss: 0.0043 - mae: 0.0495\n",
      "Epoch 9/10\n",
      "20000/20000 [==============================] - 1s 42us/sample - loss: 0.0039 - mae: 0.0474\n",
      "Epoch 10/10\n",
      "20000/20000 [==============================] - 1s 41us/sample - loss: 0.0031 - mae: 0.0416\n",
      "Train on 20000 samples\n",
      "Epoch 1/10\n",
      "20000/20000 [==============================] - 1s 52us/sample - loss: 0.1801 - mae: 0.3149\n",
      "Epoch 2/10\n",
      "20000/20000 [==============================] - 1s 41us/sample - loss: 0.1376 - mae: 0.2927\n",
      "Epoch 3/10\n",
      "20000/20000 [==============================] - 1s 60us/sample - loss: 0.1354 - mae: 0.2907\n",
      "Epoch 4/10\n",
      "20000/20000 [==============================] - 1s 61us/sample - loss: 0.1349 - mae: 0.2893\n",
      "Epoch 5/10\n",
      "20000/20000 [==============================] - 1s 61us/sample - loss: 0.1312 - mae: 0.2862\n",
      "Epoch 6/10\n",
      "20000/20000 [==============================] - 1s 62us/sample - loss: 0.1324 - mae: 0.2871\n",
      "Epoch 7/10\n",
      "20000/20000 [==============================] - 1s 52us/sample - loss: 0.1272 - mae: 0.2808\n",
      "Epoch 8/10\n",
      "20000/20000 [==============================] - 1s 54us/sample - loss: 0.1286 - mae: 0.2829\n",
      "Epoch 9/10\n",
      "20000/20000 [==============================] - 1s 70us/sample - loss: 0.1249 - mae: 0.2780\n",
      "Epoch 10/10\n",
      "20000/20000 [==============================] - 1s 42us/sample - loss: 0.1257 - mae: 0.2790\n"
     ]
    },
    {
     "data": {
      "text/plain": [
       "<tensorflow.python.keras.callbacks.History at 0x7f7b1c385790>"
      ]
     },
     "execution_count": 8,
     "metadata": {},
     "output_type": "execute_result"
    }
   ],
   "source": [
    "model_std.fit(data_std, labels, epochs=10, batch_size=32)\n",
    "model_sys.fit(data_sys, labels, epochs=10, batch_size=32)"
   ]
  },
  {
   "cell_type": "markdown",
   "metadata": {},
   "source": [
    "### Make an \"observed\" sample\n",
    "\n",
    "The \"observed\" sample is the same as the `sys` smearing (two Gaussians, one of width 1 and the other of width 5, so total width of $\\sqrt{26}$)"
   ]
  },
  {
   "cell_type": "code",
   "execution_count": 9,
   "metadata": {},
   "outputs": [
    {
     "data": {
      "image/png": "[encoded data removed]",
      "text/plain": [
       "<Figure size 432x288 with 1 Axes>"
      ]
     },
     "metadata": {
      "needs_background": "light"
     },
     "output_type": "display_data"
    }
   ],
   "source": [
    "outdata = np.concatenate( [np.random.normal( loc=x0, size=1000),\n",
    "                           np.random.normal( loc=x1, size=1000)] )\n",
    "outdata += np.random.normal(loc=0, scale=dx, size=2000)\n",
    "outdatalabels = np.concatenate( [np.zeros(1000), np.ones(1000)] )\n",
    "\n",
    "plt.hist(outdata[outdatalabels == 0], bins=np.arange(30), histtype = 'step', label=\"A, obs\", color='b')\n",
    "plt.hist(outdata[outdatalabels == 1], bins=np.arange(30), histtype = 'step', label=\"B, obs\", color='r')\n",
    "plt.title(\"Observed data\")\n",
    "plt.legend()\n",
    "plt.xlabel(\"x\")\n",
    "plt.ylabel(\"Number\")\n",
    "plt.show()"
   ]
  },
  {
   "cell_type": "code",
   "execution_count": null,
   "metadata": {},
   "outputs": [],
   "source": []
  },
  {
   "cell_type": "markdown",
   "metadata": {},
   "source": [
    "### Get the prediction\n",
    "\n",
    "We will now look at the two predictions. The first will be predicted with the `std` model (no smearing in the training) and the second will be predicted with the `sys` model (trained on the smeared inputs)."
   ]
  },
  {
   "cell_type": "code",
   "execution_count": 10,
   "metadata": {},
   "outputs": [],
   "source": [
    "evals_std = model_std.evaluate(x=outdata, y=outdatalabels, verbose=0)\n",
    "preds_std = model_std.predict(outdata)\n",
    "evals_sys = model_sys.evaluate(x=outdata, y=outdatalabels, verbose=0)\n",
    "preds_sys = model_sys.predict(outdata)"
   ]
  },
  {
   "cell_type": "code",
   "execution_count": 11,
   "metadata": {},
   "outputs": [
    {
     "data": {
      "image/png": "[encoded data removed]",
      "text/plain": [
       "<Figure size 432x288 with 1 Axes>"
      ]
     },
     "metadata": {
      "needs_background": "light"
     },
     "output_type": "display_data"
    }
   ],
   "source": [
    "\n",
    "plt.hist(preds_std[outdatalabels == 0], bins=np.linspace(-1,3,10), histtype='step', label=\"A, std nn\", color='b', linestyle='dashed')\n",
    "plt.hist(preds_std[outdatalabels == 1], bins=np.linspace(-1,3,10), histtype='step', label=\"B, std nn\", color='r', linestyle='dashed')\n",
    "plt.hist(preds_sys[outdatalabels == 0], bins=np.linspace(-1,3,10), histtype='step', label=\"A, sys nn\", color='b')\n",
    "plt.hist(preds_sys[outdatalabels == 1], bins=np.linspace(-1,3,10), histtype='step', label=\"B, sys nn\", color='r')\n",
    "plt.legend()\n",
    "plt.title(\"Output score for various scenarios\")\n",
    "plt.xlabel(\"NN Score\")\n",
    "plt.ylabel(\"Number\")\n",
    "plt.show()"
   ]
  },
  {
   "cell_type": "markdown",
   "metadata": {},
   "source": [
    "### Discussion\n",
    "\n",
    "It's very clear that the output score is completely different if we train the networks without the additional systematic smearing. As such, it is not always the case that training on a network **without** systematics, and then applying systematics to the output, is justified.\n",
    "\n",
    "Our suggestion is to check the output score as is done here for some (ideally all) of the systematic uncertainties you're considering. To summarize:\n",
    "\n",
    "1. Take the input MC without systematic variation. Train one network on these events ($N_1$).  \n",
    "1. Apply the systematic uncertainty. Train another network on these events ($N_2$). \n",
    "1. Take separate events and apply the systematic uncertainty to them as well. Compare the network score distribution of the dataset predicted by the first and second models. \n",
    "\n",
    "If the distributions do not match, the systematic uncertainty should be accounted for in the training, not in the posterior. "
   ]
  },
  {
   "cell_type": "code",
   "execution_count": null,
   "metadata": {},
   "outputs": [],
   "source": []
  }
 ],
 "metadata": {
  "kernelspec": {
   "display_name": "Python 3",
   "language": "python",
   "name": "python3"
  },
  "language_info": {
   "codemirror_mode": {
    "name": "ipython",
    "version": 3
   },
   "file_extension": ".py",
   "mimetype": "text/x-python",
   "name": "python",
   "nbconvert_exporter": "python",
   "pygments_lexer": "ipython3",
   "version": "3.7.5rc1"
  }
 },
 "nbformat": 4,
 "nbformat_minor": 2
}
